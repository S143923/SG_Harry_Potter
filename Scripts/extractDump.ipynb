{
 "cells": [
  {
   "cell_type": "code",
   "execution_count": 1,
   "metadata": {},
   "outputs": [],
   "source": [
    "import xml.etree.cElementTree as etree\n",
    "import string\n",
    "import subprocess \n",
    "import json\n",
    "import re\n",
    "import networkx as nx\n",
    "import matplotlib.pyplot as plt\n",
    "import matplotlib as mpl\n",
    "import numpy as np\n",
    "import operator\n",
    "from bs4 import BeautifulSoup\n",
    "import requests"
   ]
  },
  {
   "cell_type": "code",
   "execution_count": 2,
   "metadata": {},
   "outputs": [],
   "source": [
    "fandomDump = 'harrypotter_pages_current.xml'"
   ]
  },
  {
   "cell_type": "code",
   "execution_count": 3,
   "metadata": {},
   "outputs": [],
   "source": [
    "chracters_json = open(\"characters.json\", encoding=\"utf-8\").read()"
   ]
  },
  {
   "cell_type": "code",
   "execution_count": 4,
   "metadata": {},
   "outputs": [],
   "source": [
    "characters = json.loads(chracters_json)"
   ]
  },
  {
   "cell_type": "code",
   "execution_count": 5,
   "metadata": {},
   "outputs": [],
   "source": [
    "characterSet = set(map(lambda x: x.lower(), characters))"
   ]
  },
  {
   "cell_type": "code",
   "execution_count": 6,
   "metadata": {},
   "outputs": [],
   "source": [
    "namespacestr = '{http://www.mediawiki.org/xml/export-0.10/}'\n",
    "namespace = {'mw': 'http://www.mediawiki.org/xml/export-0.10/'}"
   ]
  },
  {
   "cell_type": "code",
   "execution_count": 7,
   "metadata": {},
   "outputs": [],
   "source": [
    "# Check if stirng does not contain any world from blacklist\n",
    "def nonRestricted(string ):\n",
    "    return True"
   ]
  },
  {
   "cell_type": "code",
   "execution_count": 8,
   "metadata": {},
   "outputs": [],
   "source": [
    "# Substitu space for _ and cut link\n",
    "def cleanLink(link):\n",
    "    split = re.split(r'[|]+', link)\n",
    "    return split[0]"
   ]
  },
  {
   "cell_type": "code",
   "execution_count": 9,
   "metadata": {},
   "outputs": [],
   "source": [
    "def parse_Infobox(text):\n",
    "    blood = re.search(r\"\\|blood\\s*=(.*?)\\n\\|\", text, flags=re.DOTALL)\n",
    "    if blood:\n",
    "        blood = blood.groups()\n",
    "    else:\n",
    "        blood = \"None\"\n",
    "    house = re.search(r\"\\|house\\s*=\\s*\\[\\[([\\w-]+)\\]]\", text)\n",
    "    if house:\n",
    "        house = house.groups()\n",
    "    else:\n",
    "        house = \"None\"\n",
    "    loyalty = re.search(r\"\\|loyalty\\s*=(.*?)\\}\\}\", text, flags=re.DOTALL)\n",
    "    if loyalty:\n",
    "        loyalty = loyalty.groups()\n",
    "    else:\n",
    "        loyalty = \"None\"\n",
    "    return(blood, house, loyalty)"
   ]
  },
  {
   "cell_type": "code",
   "execution_count": 23,
   "metadata": {},
   "outputs": [],
   "source": [
    "def findChartersLinks(file_name):\n",
    "    actorsLinkDic = {}\n",
    "    character_info = {}\n",
    "    for i , (event, elem) in enumerate(etree.iterparse(file_name, events=('start', 'end', 'start-ns', 'end-ns'))):\n",
    "        # In case that we find tag <page> we continue\n",
    "        if event == 'end' and elem.tag == namespacestr + 'page':\n",
    "            # search for tag <title> inside tag <page>\n",
    "            title = elem.find('.//mw:title', namespace)\n",
    "            if title is not None: \n",
    "                # save text of the title\n",
    "                title = title.text.lower()\n",
    "                # search for tag <text> inside tag <page> \n",
    "                if title not in characterSet:\n",
    "                    continue\n",
    "                textelem = elem.find('.//mw:text', namespace)\n",
    "                # tag text exist and is not empty and does not contain world from blacklist\n",
    "                if textelem is not None and textelem.text is not None and nonRestricted(title.lower()):\n",
    "                    wiki_text=textelem.text\n",
    "                    text = wiki_text\n",
    "                    \n",
    "                    if title == \"james potter ii\":\n",
    "                        print(title, wiki_text)\n",
    "                    \n",
    "                    if \"#REDIRECT\" in wiki_text:\n",
    "                        continue\n",
    "                    \n",
    "                    blood, house, loyalty = parse_Infobox(wiki_text)\n",
    "                    character_info[title] = {\n",
    "                        \"blood\":blood,\n",
    "                        \"house\":house,\n",
    "                        \"loyalty\": loyalty\n",
    "                    }\n",
    "                    if loyalty == \"None\" and False:\n",
    "                        print(text[:12000])\n",
    "                    if title == \"harry potter\" and False:\n",
    "                        print(\"#REDIRECT\" in wiki_text)\n",
    "                        print(\"----------------------------------------------\")\n",
    "                    lower_wiki_text = wiki_text.lower()\n",
    "                    # article is not redirect and it is article about character\n",
    "                    if not \"redirect\" in lower_wiki_text:\n",
    "                        link_list = []\n",
    "                        # find all links in article\n",
    "                        for link in re.findall(r'\\[\\[(.*?)\\]\\]',wiki_text):\n",
    "                            clink = cleanLink(link).lower()\n",
    "                            if clink in characterSet:\n",
    "                                link_list.append(clink)\n",
    "                        # get metadata from article                  \n",
    "                        actorsLinkDic[title]=link_list                     \n",
    "                        \n",
    "    return actorsLinkDic, character_info"
   ]
  },
  {
   "cell_type": "code",
   "execution_count": 24,
   "metadata": {},
   "outputs": [],
   "source": [
    "#Save dictionary to json\n",
    "#with open('characterLinksDic.json', 'w+') as outfile:\n",
    "#    ActorLinkDic, charInfo = findChartersLinks(fandomDump)\n",
    "#    json.dump(ActorLinkDic, outfile)"
   ]
  },
  {
   "cell_type": "code",
   "execution_count": null,
   "metadata": {},
   "outputs": [],
   "source": [
    "ActorLinkDic, charInfo = findChartersLinks(fandomDump)"
   ]
  },
  {
   "cell_type": "code",
   "execution_count": 19,
   "metadata": {},
   "outputs": [
    {
     "data": {
      "text/plain": [
       "{'blood': ('[[Half-blood]]<ref name=\"blood\">{{COS|B|17}} - Tom Riddle states that there \"are strange likenesses between us, after all. Even you must have noticed. Both half-bloods\".</ref><!--Please do not change this. Pure-bloods must have no Muggle grandparents. Since Harry\\'s maternal grandparents were Muggles, he can only be half-blood.-->',),\n",
       " 'house': ('Gryffindor',),\n",
       " 'loyalty': (\"*[[Potter family]]\\n*[[Weasley family]]\\n*[[Albus Dumbledore]]\\n*[[Dumbledore's Army]]\\n*[[Order of the Phoenix]]\\n*[[Hogwarts School of Witchcraft and Wizardry]]\\n**[[Gryffindor]]\\n**[[Gryffindor Quidditch team]]\\n**[[Slug Club]]\\n*[[British Ministry of Magic]]\\n**[[Auror Department|Auror Office]]\\n**[[Department of Magical Law Enforcement]]\\n*[[Society for the Promotion of Elfish Welfare|S.P.E.W.]]\\n*[[Holyhead Harpies]]\\n\",)}"
      ]
     },
     "execution_count": 19,
     "metadata": {},
     "output_type": "execute_result"
    }
   ],
   "source": [
    "charInfo[\"harry potter\"]"
   ]
  },
  {
   "cell_type": "code",
   "execution_count": null,
   "metadata": {},
   "outputs": [],
   "source": [
    "# Save dictionary to json\n",
    "#with open('characterInfo.json', 'w+') as outfile:\n",
    "#    json.dump(charInfo, outfile)"
   ]
  },
  {
   "cell_type": "code",
   "execution_count": null,
   "metadata": {},
   "outputs": [],
   "source": [
    "# Create graph from dictionary\n",
    "with open('characterLinksDic.json', 'r') as outfile:\n",
    "    characterLinksDic = json.load(outfile)\n",
    "\n",
    "DG = nx.DiGraph()\n",
    "\n",
    "# add nodes from dictionary\n",
    "key_links = set()\n",
    "for key in characterLinksDic:\n",
    "    if \"potter\" in key:\n",
    "        print(\"found him\", key)\n",
    "    key_links.add(key)\n",
    "    DG.add_node(key)\n",
    "    \n",
    "# Add edges to graphs\n",
    "for key, value in characterLinksDic.items():\n",
    "    for link in value:\n",
    "        if link in key_links:\n",
    "            DG.add_edge(key,link)"
   ]
  },
  {
   "cell_type": "code",
   "execution_count": null,
   "metadata": {},
   "outputs": [],
   "source": [
    "G = DG.to_undirected()"
   ]
  },
  {
   "cell_type": "code",
   "execution_count": null,
   "metadata": {},
   "outputs": [],
   "source": [
    "plt.figure(1, figsize=(13, 13))\n",
    "nx.draw_networkx(G, node_size=10, edge_color='.1', with_labels=False, width=0.9, font_color ='#ff0000', alpha=0.2)\n",
    "plt.axis('off')\n",
    "plt.show()"
   ]
  },
  {
   "cell_type": "code",
   "execution_count": null,
   "metadata": {},
   "outputs": [],
   "source": [
    "len(DG.nodes)"
   ]
  },
  {
   "cell_type": "code",
   "execution_count": null,
   "metadata": {},
   "outputs": [],
   "source": [
    "len(DG.edges)"
   ]
  },
  {
   "cell_type": "code",
   "execution_count": null,
   "metadata": {},
   "outputs": [],
   "source": [
    "sorted(DG.degree(), key=lambda kv: kv[1], reverse=True)"
   ]
  },
  {
   "cell_type": "markdown",
   "metadata": {},
   "source": [
    "1198"
   ]
  },
  {
   "cell_type": "code",
   "execution_count": null,
   "metadata": {},
   "outputs": [],
   "source": [
    "\"Harry James Potter\" in characters"
   ]
  },
  {
   "cell_type": "code",
   "execution_count": null,
   "metadata": {},
   "outputs": [],
   "source": []
  },
  {
   "cell_type": "code",
   "execution_count": null,
   "metadata": {},
   "outputs": [],
   "source": []
  }
 ],
 "metadata": {
  "kernelspec": {
   "display_name": "Python 3",
   "language": "python",
   "name": "python3"
  },
  "language_info": {
   "codemirror_mode": {
    "name": "ipython",
    "version": 3
   },
   "file_extension": ".py",
   "mimetype": "text/x-python",
   "name": "python",
   "nbconvert_exporter": "python",
   "pygments_lexer": "ipython3",
   "version": "3.6.4"
  }
 },
 "nbformat": 4,
 "nbformat_minor": 2
}
